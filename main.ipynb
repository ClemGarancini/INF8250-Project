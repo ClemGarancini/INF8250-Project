{
 "cells": [
  {
   "cell_type": "markdown",
   "metadata": {},
   "source": [
    "# IMPORTS #"
   ]
  },
  {
   "cell_type": "code",
   "execution_count": 3,
   "metadata": {},
   "outputs": [],
   "source": [
    "import numpy as np\n",
    "import plotly\n",
    "import pandas as pd\n",
    "import gym\n",
    "from gym import spaces"
   ]
  },
  {
   "cell_type": "markdown",
   "metadata": {},
   "source": [
    "# DATA #"
   ]
  },
  {
   "cell_type": "code",
   "execution_count": 65,
   "metadata": {},
   "outputs": [],
   "source": [
    "apple_stock_df = pd.read_csv(\"AAPL.csv\")\n",
    "apple_stock_df.name = \"Apple\"\n",
    "shell_stock_df = pd.read_csv(\"SHEL.csv\")\n",
    "shell_stock_df.name = \"Shell\"\n",
    "\n",
    "# apple_stock_df = apple_stock_df.set_index(\"Date\")\n",
    "# shell_stock_df = shell_stock_df.set_index(\"Date\")"
   ]
  },
  {
   "cell_type": "code",
   "execution_count": 47,
   "metadata": {},
   "outputs": [
    {
     "data": {
      "text/plain": [
       "(1257, 7)"
      ]
     },
     "execution_count": 47,
     "metadata": {},
     "output_type": "execute_result"
    }
   ],
   "source": [
    "apple_stock_df.shape"
   ]
  },
  {
   "cell_type": "markdown",
   "metadata": {},
   "source": [
    "# GYM ENV"
   ]
  },
  {
   "cell_type": "code",
   "execution_count": 49,
   "metadata": {},
   "outputs": [],
   "source": [
    "class SDSTEnv(gym.Env):\n",
    "    \"\"\"\n",
    "    Implement the Simple Double Stock Trading Environnement\n",
    "    \"\"\"\n",
    "\n",
    "    def __init__(self, stock1: pd.DataFrame, stock2: pd.DataFrame) -> None:\n",
    "        super(SDSTEnv, self).__init__()\n",
    "\n",
    "        ##########\n",
    "        # RMQ: Don't we add the balance and stocks possessed?\n",
    "        ##########\n",
    "        # Observation Space: s in {0,1} x {0,1} (i.e. stock trends, 0 for going down, 1 for going up)\n",
    "        self.observation_space = spaces.Tuple((spaces.Discrete(2), spaces.Discrete(2)))\n",
    "\n",
    "        ##########\n",
    "        # RMQ: Don't we add the action \"hold\"?\n",
    "        # What means \"buy\" and \"sell\", what amount, under which conditions, where do we implement them?\n",
    "        # Idea: Buy/sell 10 shares per action inn the limit of the balance left\n",
    "        ##########\n",
    "        # Action Space: a in {0,1} x {-1,1} (i.e. first is for stock choice, second is for buy or sell 10 shares)\n",
    "        self.action_space = spaces.Tuple((spaces.Discrete(2), spaces.Discrete(2)))\n",
    "\n",
    "        # Data\n",
    "        assert stock1[\"Date\"].equals(\n",
    "            stock2[\"Date\"]\n",
    "        ), \"Stocks data should be timely synchronized, make sure the dates of stock prices are identical\"\n",
    "        self.stock1 = stock1\n",
    "        self.stock2 = stock2\n",
    "\n",
    "        # Date\n",
    "        self.timeStep = 0\n",
    "\n",
    "        # Portfolio\n",
    "        self.totalPortfolio = 100\n",
    "        self.stocksShare = [0, 0]\n",
    "        self.balanceLeft = 100\n",
    "\n",
    "    def __str__(self):\n",
    "        stockValues = [\n",
    "            self.stock1.loc[self.timeStep][\"Open\"],\n",
    "            self.stock2.loc[self.timeStep][\"Open\"],\n",
    "        ]\n",
    "        info = \"\"\"The environment is a Simple Double Stock Trading Problem.\\n \n",
    "        It is using the stocks: {}, {}.\\n \n",
    "        The episode is at the timestep {}\\n\n",
    "        The stock prices are {}\\n\n",
    "        Amount of shares held by the agent: {}\\n\n",
    "        Left balance: {}\n",
    "        \"\"\".format(self.stock1.name, self.stock2.name, self.timeStep, stockValues, self.stocksShare, self.balanceLeft)\n",
    "\n",
    "    def reset(self):\n",
    "        # Reset the environment and return a random initial state\n",
    "        return self.observation_space.sample()\n",
    "\n",
    "    def step(self, action: tuple[int, int]):\n",
    "        \"\"\"\n",
    "        Take a step in the environment\n",
    "\n",
    "        Args:\n",
    "            action: tuple[int, int] - The action the agent has taken\n",
    "\n",
    "        Returns:\n",
    "            observation: tuple[int, int] - The next observation state\n",
    "            reward: float - The reward the agent is granted\n",
    "            terminated: bool - Is the episode terminated\n",
    "            truncated: bool - Is the episode truncated\n",
    "            info: dict - Additional info\n",
    "        \"\"\"\n",
    "        stock = action[0]\n",
    "        trade = action[1]\n",
    "\n",
    "        assert stock in [0, 1] and trade in [-1, 1], \"Invalid action\"\n",
    "\n",
    "        stockValues = [\n",
    "            self.stock1.loc[self.timeStep][\"Open\"],\n",
    "            self.stock2.loc[self.timeStep][\"Open\"],\n",
    "        ]\n",
    "\n",
    "        ##########\n",
    "        # RMQ: How does the agent do not sell shares it does not possess?\n",
    "        ##########\n",
    "        self.stocksShare[stock] += trade * 10\n",
    "        self.balanceLeft -= trade * stockValues[stock]\n",
    "        newtotalPortfolio = np.dot(self.stocksShare, stockValues) + self.balanceLeft\n",
    "\n",
    "        # Update state\n",
    "        self.timeStep += 1\n",
    "\n",
    "        # Returned values\n",
    "        terminated = self.timeStep == self.stock1.shape[0]\n",
    "        if not terminated:\n",
    "            obs = self.get_observation_from_data()\n",
    "        else:\n",
    "            obs = None\n",
    "        reward = newtotalPortfolio - self.totalPortfolio\n",
    "        self.totalPortfolio = newtotalPortfolio\n",
    "        truncated = False\n",
    "        info = {}\n",
    "\n",
    "        return obs, reward, terminated, truncated, info\n",
    "\n",
    "    def get_observation_from_data(self):\n",
    "        if not self.timeStep:\n",
    "            return self.observation_space.sample()\n",
    "\n",
    "        ##########\n",
    "        # RMQ: What value do we take for the stock price? Open, Close, High, Low, Mean? Whatever is fine IMO\n",
    "        ##########\n",
    "        trend1 = np.sign(\n",
    "            self.stock1.loc[self.timeStep][\"Open\"]\n",
    "            - self.stock1.loc[self.timeStep - 1][\"Open\"]\n",
    "        )\n",
    "        trend2 = np.sign(\n",
    "            self.stock2.loc[self.timeStep][\"Open\"]\n",
    "            - self.stock2.loc[self.timeStep - 1][\"Open\"]\n",
    "        )\n",
    "\n",
    "        return (trend1, trend2)"
   ]
  },
  {
   "cell_type": "code",
   "execution_count": 64,
   "metadata": {},
   "outputs": [
    {
     "name": "stdout",
     "output_type": "stream",
     "text": [
      "<SDSTEnv instance>\n"
     ]
    }
   ],
   "source": [
    "myEnv = SDSTEnv(apple_stock_df, shell_stock_df)\n",
    "\n",
    "print(myEnv)"
   ]
  },
  {
   "cell_type": "code",
   "execution_count": null,
   "metadata": {},
   "outputs": [],
   "source": []
  }
 ],
 "metadata": {
  "kernelspec": {
   "display_name": "INF8250-Project",
   "language": "python",
   "name": "python3"
  },
  "language_info": {
   "codemirror_mode": {
    "name": "ipython",
    "version": 3
   },
   "file_extension": ".py",
   "mimetype": "text/x-python",
   "name": "python",
   "nbconvert_exporter": "python",
   "pygments_lexer": "ipython3",
   "version": "3.11.5"
  }
 },
 "nbformat": 4,
 "nbformat_minor": 2
}
